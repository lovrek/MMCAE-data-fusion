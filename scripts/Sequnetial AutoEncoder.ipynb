{
 "cells": [
  {
   "cell_type": "code",
   "execution_count": 12,
   "metadata": {},
   "outputs": [],
   "source": [
    "from IPython.display import Image, SVG\n",
    "import matplotlib.pyplot as plt\n",
    "\n",
    "import time\n",
    "import numpy as np\n",
    "import tensorflow.keras\n",
    "from tensorflow.keras.datasets import mnist\n",
    "from tensorflow.keras.models import Model, Sequential\n",
    "from tensorflow.keras.layers import Input, Dense, Masking\n",
    "from tensorflow.keras import regularizers"
   ]
  },
  {
   "cell_type": "code",
   "execution_count": 14,
   "metadata": {},
   "outputs": [
    {
     "name": "stdout",
     "output_type": "stream",
     "text": [
      "Compression factor: 24.5\n"
     ]
    },
    {
     "ename": "NameError",
     "evalue": "name 'features' is not defined",
     "output_type": "error",
     "traceback": [
      "\u001b[0;31m---------------------------------------------------------------------------\u001b[0m",
      "\u001b[0;31mNameError\u001b[0m                                 Traceback (most recent call last)",
      "\u001b[0;32m<ipython-input-14-eb02edf2ad0e>\u001b[0m in \u001b[0;36m<module>\u001b[0;34m()\u001b[0m\n\u001b[1;32m     24\u001b[0m \u001b[0;34m\u001b[0m\u001b[0m\n\u001b[1;32m     25\u001b[0m \u001b[0mautoencoder\u001b[0m \u001b[0;34m=\u001b[0m \u001b[0mSequential\u001b[0m\u001b[0;34m(\u001b[0m\u001b[0;34m)\u001b[0m\u001b[0;34m\u001b[0m\u001b[0m\n\u001b[0;32m---> 26\u001b[0;31m \u001b[0mautoencoder\u001b[0m\u001b[0;34m.\u001b[0m\u001b[0madd\u001b[0m\u001b[0;34m(\u001b[0m\u001b[0mMasking\u001b[0m\u001b[0;34m(\u001b[0m\u001b[0mmask_value\u001b[0m\u001b[0;34m=\u001b[0m\u001b[0;36m0.\u001b[0m\u001b[0;34m,\u001b[0m \u001b[0minput_shape\u001b[0m\u001b[0;34m=\u001b[0m\u001b[0;34m(\u001b[0m\u001b[0mtime\u001b[0m\u001b[0;34m.\u001b[0m\u001b[0mtime\u001b[0m\u001b[0;34m(\u001b[0m\u001b[0;34m)\u001b[0m\u001b[0;34m,\u001b[0m \u001b[0mfeatures\u001b[0m\u001b[0;34m)\u001b[0m\u001b[0;34m)\u001b[0m\u001b[0;34m)\u001b[0m\u001b[0;34m\u001b[0m\u001b[0m\n\u001b[0m\u001b[1;32m     27\u001b[0m \u001b[0mautoencoder\u001b[0m\u001b[0;34m.\u001b[0m\u001b[0madd\u001b[0m\u001b[0;34m(\u001b[0m\u001b[0mDense\u001b[0m\u001b[0;34m(\u001b[0m\u001b[0mencoding_dim\u001b[0m\u001b[0;34m,\u001b[0m \u001b[0minput_shape\u001b[0m\u001b[0;34m=\u001b[0m\u001b[0;34m(\u001b[0m\u001b[0minput_dim\u001b[0m\u001b[0;34m,\u001b[0m\u001b[0;34m)\u001b[0m\u001b[0;34m,\u001b[0m \u001b[0mactivation\u001b[0m\u001b[0;34m=\u001b[0m\u001b[0;34m'relu'\u001b[0m\u001b[0;34m)\u001b[0m\u001b[0;34m)\u001b[0m\u001b[0;34m\u001b[0m\u001b[0m\n\u001b[1;32m     28\u001b[0m \u001b[0mautoencoder\u001b[0m\u001b[0;34m.\u001b[0m\u001b[0madd\u001b[0m\u001b[0;34m(\u001b[0m\u001b[0mDense\u001b[0m\u001b[0;34m(\u001b[0m\u001b[0minput_dim\u001b[0m\u001b[0;34m,\u001b[0m \u001b[0mactivation\u001b[0m\u001b[0;34m=\u001b[0m\u001b[0;34m'sigmoid'\u001b[0m\u001b[0;34m)\u001b[0m\u001b[0;34m)\u001b[0m\u001b[0;34m\u001b[0m\u001b[0m\n",
      "\u001b[0;31mNameError\u001b[0m: name 'features' is not defined"
     ]
    }
   ],
   "source": [
    "# Loads the training and test data sets (ignoring class labels)\n",
    "(x_train, _), (x_test, _) = mnist.load_data()\n",
    "\n",
    "# Scales the training and test data to range between 0 and 1.\n",
    "max_value = float(x_train.max())\n",
    "x_train = x_train.astype('float32') / max_value\n",
    "x_test = x_test.astype('float32') / max_value\n",
    "\n",
    "x_train.shape, x_test.shape\n",
    "# ((60000, 28, 28), (10000, 28, 28))\n",
    "\n",
    "x_train = x_train.reshape((len(x_train), np.prod(x_train.shape[1:])))\n",
    "x_test = x_test.reshape((len(x_test), np.prod(x_test.shape[1:])))\n",
    "\n",
    "(x_train.shape, x_test.shape)\n",
    "# ((60000, 784), (10000, 784))\n",
    "\n",
    "# input dimension = 784\n",
    "input_dim = x_train.shape[1]\n",
    "encoding_dim = 32\n",
    "\n",
    "compression_factor = float(input_dim) / encoding_dim\n",
    "print(\"Compression factor: %s\" % compression_factor)\n",
    "\n",
    "autoencoder = Sequential()\n",
    "autoencoder.add(Masking(mask_value=0., input_shape=(timestamp, features)))\n",
    "autoencoder.add(Dense(encoding_dim, input_shape=(input_dim,), activation='relu'))\n",
    "autoencoder.add(Dense(input_dim, activation='sigmoid'))\n",
    "\n",
    "autoencoder.summary()\n"
   ]
  },
  {
   "cell_type": "code",
   "execution_count": 6,
   "metadata": {},
   "outputs": [
    {
     "name": "stdout",
     "output_type": "stream",
     "text": [
      "Train on 60000 samples, validate on 10000 samples\n",
      "Epoch 1/50\n",
      "60000/60000 [==============================] - 6s 106us/step - loss: 0.2767 - val_loss: 0.1868\n",
      "Epoch 2/50\n",
      "60000/60000 [==============================] - 2s 29us/step - loss: 0.1690 - val_loss: 0.1520\n",
      "Epoch 3/50\n",
      "60000/60000 [==============================] - 2s 28us/step - loss: 0.1433 - val_loss: 0.1332\n",
      "Epoch 4/50\n",
      "60000/60000 [==============================] - 2s 30us/step - loss: 0.1282 - val_loss: 0.1210\n",
      "Epoch 5/50\n",
      "60000/60000 [==============================] - 2s 28us/step - loss: 0.1182 - val_loss: 0.1129\n",
      "Epoch 6/50\n",
      "60000/60000 [==============================] - 2s 30us/step - loss: 0.1113 - val_loss: 0.1072\n",
      "Epoch 7/50\n",
      "60000/60000 [==============================] - 2s 27us/step - loss: 0.1063 - val_loss: 0.1028\n",
      "Epoch 8/50\n",
      "60000/60000 [==============================] - 2s 29us/step - loss: 0.1025 - val_loss: 0.0998\n",
      "Epoch 9/50\n",
      "60000/60000 [==============================] - 2s 30us/step - loss: 0.0998 - val_loss: 0.0974\n",
      "Epoch 10/50\n",
      "60000/60000 [==============================] - 2s 31us/step - loss: 0.0977 - val_loss: 0.0957\n",
      "Epoch 11/50\n",
      "60000/60000 [==============================] - 2s 32us/step - loss: 0.0963 - val_loss: 0.0945\n",
      "Epoch 12/50\n",
      "60000/60000 [==============================] - 2s 36us/step - loss: 0.0954 - val_loss: 0.0939\n",
      "Epoch 13/50\n",
      "60000/60000 [==============================] - 2s 34us/step - loss: 0.0948 - val_loss: 0.0933\n",
      "Epoch 14/50\n",
      "60000/60000 [==============================] - 2s 35us/step - loss: 0.0944 - val_loss: 0.0930\n",
      "Epoch 15/50\n",
      "60000/60000 [==============================] - 2s 34us/step - loss: 0.0941 - val_loss: 0.0928\n",
      "Epoch 16/50\n",
      "60000/60000 [==============================] - 2s 33us/step - loss: 0.0939 - val_loss: 0.0926\n",
      "Epoch 17/50\n",
      "60000/60000 [==============================] - 2s 32us/step - loss: 0.0937 - val_loss: 0.0924\n",
      "Epoch 18/50\n",
      "60000/60000 [==============================] - 2s 32us/step - loss: 0.0936 - val_loss: 0.0923\n",
      "Epoch 19/50\n",
      "60000/60000 [==============================] - 2s 29us/step - loss: 0.0935 - val_loss: 0.0922\n",
      "Epoch 20/50\n",
      "60000/60000 [==============================] - 2s 28us/step - loss: 0.0934 - val_loss: 0.0922\n",
      "Epoch 21/50\n",
      "60000/60000 [==============================] - 2s 27us/step - loss: 0.0933 - val_loss: 0.0920\n",
      "Epoch 22/50\n",
      "60000/60000 [==============================] - 2s 28us/step - loss: 0.0933 - val_loss: 0.0921\n",
      "Epoch 23/50\n",
      "60000/60000 [==============================] - 2s 29us/step - loss: 0.0932 - val_loss: 0.0920\n",
      "Epoch 24/50\n",
      "60000/60000 [==============================] - 2s 30us/step - loss: 0.0931 - val_loss: 0.0920\n",
      "Epoch 25/50\n",
      "60000/60000 [==============================] - 2s 29us/step - loss: 0.0931 - val_loss: 0.0919\n",
      "Epoch 26/50\n",
      "60000/60000 [==============================] - 2s 27us/step - loss: 0.0931 - val_loss: 0.0919\n",
      "Epoch 27/50\n",
      "60000/60000 [==============================] - 2s 29us/step - loss: 0.0930 - val_loss: 0.0919\n",
      "Epoch 28/50\n",
      "60000/60000 [==============================] - 2s 29us/step - loss: 0.0930 - val_loss: 0.0918\n",
      "Epoch 29/50\n",
      "60000/60000 [==============================] - 2s 27us/step - loss: 0.0930 - val_loss: 0.0918\n",
      "Epoch 30/50\n",
      "60000/60000 [==============================] - 2s 28us/step - loss: 0.0929 - val_loss: 0.0918\n",
      "Epoch 31/50\n",
      "60000/60000 [==============================] - 2s 28us/step - loss: 0.0929 - val_loss: 0.0917\n",
      "Epoch 32/50\n",
      "60000/60000 [==============================] - 2s 30us/step - loss: 0.0929 - val_loss: 0.0918\n",
      "Epoch 33/50\n",
      "60000/60000 [==============================] - 2s 28us/step - loss: 0.0929 - val_loss: 0.0918\n",
      "Epoch 34/50\n",
      "60000/60000 [==============================] - 2s 29us/step - loss: 0.0929 - val_loss: 0.0917\n",
      "Epoch 35/50\n",
      "60000/60000 [==============================] - 2s 27us/step - loss: 0.0928 - val_loss: 0.0916\n",
      "Epoch 36/50\n",
      "60000/60000 [==============================] - 2s 31us/step - loss: 0.0928 - val_loss: 0.0917\n",
      "Epoch 37/50\n",
      "60000/60000 [==============================] - 2s 33us/step - loss: 0.0928 - val_loss: 0.0916\n",
      "Epoch 38/50\n",
      "60000/60000 [==============================] - 2s 35us/step - loss: 0.0928 - val_loss: 0.0916\n",
      "Epoch 39/50\n",
      "60000/60000 [==============================] - 2s 33us/step - loss: 0.0928 - val_loss: 0.0917\n",
      "Epoch 40/50\n",
      "60000/60000 [==============================] - 2s 33us/step - loss: 0.0928 - val_loss: 0.0916\n",
      "Epoch 41/50\n",
      "60000/60000 [==============================] - 2s 27us/step - loss: 0.0927 - val_loss: 0.0916\n",
      "Epoch 42/50\n",
      "60000/60000 [==============================] - 2s 28us/step - loss: 0.0927 - val_loss: 0.0916\n",
      "Epoch 43/50\n",
      "60000/60000 [==============================] - 2s 27us/step - loss: 0.0927 - val_loss: 0.0916\n",
      "Epoch 44/50\n",
      "60000/60000 [==============================] - 2s 28us/step - loss: 0.0927 - val_loss: 0.0916\n",
      "Epoch 45/50\n",
      "60000/60000 [==============================] - 2s 30us/step - loss: 0.0927 - val_loss: 0.0916\n",
      "Epoch 46/50\n",
      "60000/60000 [==============================] - 2s 30us/step - loss: 0.0927 - val_loss: 0.0915\n",
      "Epoch 47/50\n",
      "60000/60000 [==============================] - 2s 31us/step - loss: 0.0927 - val_loss: 0.0915\n",
      "Epoch 48/50\n",
      "60000/60000 [==============================] - 2s 32us/step - loss: 0.0927 - val_loss: 0.0916\n",
      "Epoch 49/50\n",
      "60000/60000 [==============================] - 2s 31us/step - loss: 0.0927 - val_loss: 0.0915\n",
      "Epoch 50/50\n",
      "60000/60000 [==============================] - 2s 29us/step - loss: 0.0927 - val_loss: 0.0915\n"
     ]
    },
    {
     "data": {
      "text/plain": [
       "<tensorflow.python.keras.callbacks.History at 0x7f44a8940550>"
      ]
     },
     "execution_count": 6,
     "metadata": {},
     "output_type": "execute_result"
    }
   ],
   "source": [
    "autoencoder.compile(optimizer='adam', loss='binary_crossentropy')\n",
    "autoencoder.fit(x_train, x_train,\n",
    "                epochs=50,\n",
    "                batch_size=256,\n",
    "                shuffle=True,\n",
    "                validation_data=(x_test, x_test))"
   ]
  },
  {
   "cell_type": "code",
   "execution_count": 7,
   "metadata": {},
   "outputs": [
    {
     "ename": "NameError",
     "evalue": "name 'encoder' is not defined",
     "output_type": "error",
     "traceback": [
      "\u001b[0;31m---------------------------------------------------------------------------\u001b[0m",
      "\u001b[0;31mNameError\u001b[0m                                 Traceback (most recent call last)",
      "\u001b[0;32m<ipython-input-7-aebade247540>\u001b[0m in \u001b[0;36m<module>\u001b[0;34m()\u001b[0m\n\u001b[1;32m      3\u001b[0m \u001b[0mrandom_test_images\u001b[0m \u001b[0;34m=\u001b[0m \u001b[0mnp\u001b[0m\u001b[0;34m.\u001b[0m\u001b[0mrandom\u001b[0m\u001b[0;34m.\u001b[0m\u001b[0mrandint\u001b[0m\u001b[0;34m(\u001b[0m\u001b[0mx_test\u001b[0m\u001b[0;34m.\u001b[0m\u001b[0mshape\u001b[0m\u001b[0;34m[\u001b[0m\u001b[0;36m0\u001b[0m\u001b[0;34m]\u001b[0m\u001b[0;34m,\u001b[0m \u001b[0msize\u001b[0m\u001b[0;34m=\u001b[0m\u001b[0mnum_images\u001b[0m\u001b[0;34m)\u001b[0m\u001b[0;34m\u001b[0m\u001b[0m\n\u001b[1;32m      4\u001b[0m \u001b[0;34m\u001b[0m\u001b[0m\n\u001b[0;32m----> 5\u001b[0;31m \u001b[0mencoded_imgs\u001b[0m \u001b[0;34m=\u001b[0m \u001b[0mencoder\u001b[0m\u001b[0;34m.\u001b[0m\u001b[0mpredict\u001b[0m\u001b[0;34m(\u001b[0m\u001b[0mx_test\u001b[0m\u001b[0;34m)\u001b[0m\u001b[0;34m\u001b[0m\u001b[0m\n\u001b[0m\u001b[1;32m      6\u001b[0m \u001b[0mdecoded_imgs\u001b[0m \u001b[0;34m=\u001b[0m \u001b[0mautoencoder\u001b[0m\u001b[0;34m.\u001b[0m\u001b[0mpredict\u001b[0m\u001b[0;34m(\u001b[0m\u001b[0mx_test\u001b[0m\u001b[0;34m)\u001b[0m\u001b[0;34m\u001b[0m\u001b[0m\n",
      "\u001b[0;31mNameError\u001b[0m: name 'encoder' is not defined"
     ]
    }
   ],
   "source": [
    "num_images = 10\n",
    "np.random.seed(42)\n",
    "random_test_images = np.random.randint(x_test.shape[0], size=num_images)\n",
    "\n",
    "encoded_imgs = encoder.predict(x_test)\n",
    "decoded_imgs = autoencoder.predict(x_test)"
   ]
  }
 ],
 "metadata": {
  "kernelspec": {
   "display_name": "Python 3",
   "language": "python",
   "name": "python3"
  },
  "language_info": {
   "codemirror_mode": {
    "name": "ipython",
    "version": 3
   },
   "file_extension": ".py",
   "mimetype": "text/x-python",
   "name": "python",
   "nbconvert_exporter": "python",
   "pygments_lexer": "ipython3",
   "version": "3.5.2"
  }
 },
 "nbformat": 4,
 "nbformat_minor": 2
}
